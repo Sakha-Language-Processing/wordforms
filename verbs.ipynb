{
  "nbformat": 4,
  "nbformat_minor": 0,
  "metadata": {
    "colab": {
      "name": "verbs",
      "provenance": [],
      "collapsed_sections": [],
      "authorship_tag": "ABX9TyP2vrYyTX4aujXmbl6sec2B",
      "include_colab_link": true
    },
    "kernelspec": {
      "name": "python3",
      "display_name": "Python 3"
    },
    "language_info": {
      "name": "python"
    }
  },
  "cells": [
    {
      "cell_type": "markdown",
      "metadata": {
        "id": "view-in-github",
        "colab_type": "text"
      },
      "source": [
        "<a href=\"https://colab.research.google.com/github/Sakha-Language-Processing/wordforms/blob/main/verbs.ipynb\" target=\"_parent\"><img src=\"https://colab.research.google.com/assets/colab-badge.svg\" alt=\"Open In Colab\"/></a>"
      ]
    },
    {
      "cell_type": "markdown",
      "metadata": {
        "id": "gpPPmsov6nsv"
      },
      "source": [
        "#Автоматизированный поиск и стемминг глагольных словоформ по длинным окончаниям\n",
        "\n",
        "Из корпуса wordforms.csv (см. https://www.kaggle.com/c/sakha-lemmatizer), состоящего из 98568 словоформ с подсчетом частоты. \n",
        "\n",
        "Выявлено 4622 словоформ и 1483 глаголов. В первоначальном тексте было 23294 вхождений данных 4622 словоформ глаголов.\n",
        "\n",
        "В первоначальном тексте из 1028838 слов было не менее 23294 вхождений (нужно умножать в разы)."
      ]
    },
    {
      "cell_type": "markdown",
      "metadata": {
        "id": "YAgesR2e9Zsv"
      },
      "source": [
        "## Правила\n",
        "Мы используем базу данных affixes(type:list) из 194 глагольных окончаний для выявления глаголов по двум правилам:\n",
        "1. Ищем окончание в слове и обрезаем слово, начиная с первой буквы окончания.\n",
        "2. С окончаниями работаем после замены гласных по базе данных dvowels(type:dictionary).\n",
        "\n",
        "## Исключения\n",
        "Такой подход имеет исключения. Приведем пример: радиоҕа --правило2--> радыаҕа\n",
        "--правило1--> рад.\n",
        "С целью избежать  ошибки на таких исключениях \n",
        "1. Гласных 'ио', 'иу', 'иа' заменяются на 'юю'.\n",
        "2. Редкие исключения прописаны в базе данных exceptions(type:list).\n",
        "\n",
        "Исключения могут дополняться.\n",
        "\n",
        "## Ограничения области применения\n",
        "Подход в принципе не может выявить глаголы, которые в корпусе встречаются только с короткими окончаниями. \n",
        "\n",
        "## Аналогичные подходы\n",
        "Подход с тремя уникальными окончаниями был продемонстрирован в программе verbs_aacchy.\n"
      ]
    },
    {
      "cell_type": "code",
      "metadata": {
        "id": "hfywIY9-pfM3"
      },
      "source": [
        "# Окончания к правилу 1\n",
        "affixes = ['ыһыннарыһыннарара', 'ыһыннарара',\n",
        " 'ыһыннардахха', 'ыһыннарыһыннарары', 'батаххыта',\n",
        " 'ымаарыҥытый', 'ыһыннарарга', 'ыһыннарарыгар',\n",
        " 'ыннарбатах',\n",
        " 'батаххытыта', 'батахтаахтара',\n",
        " 'ыспатаҕына', 'ыһыахтаахпытын', 'быттаахтара',\n",
        " 'ыһыннарарын', 'лыахтаахтар','лархытыта',\n",
        " 'батарбыт', 'ымаайаллар', 'быттаахпыт',\n",
        " 'ыахтаахпыт', 'ымаарыҥытытый', 'быттаахтар',\n",
        " 'ыһыннарар', 'ыаҕай', 'ыһыахпытын', 'ыһыннартаата',\n",
        " 'батаххыт', 'ымаарыҥытытыый', 'ыһыннарда',\n",
        " 'батахтааҕа', 'ыһыннараҕын', 'батахтааххыт',\n",
        " 'ааччыта', 'ымыыһылар', 'ыһыннарбыттарыгар',\n",
        " 'ыахпытытый', 'ыһыннарыыга', 'ааччылара',\n",
        " 'батахтаахпыт', 'ыһыннаралларыгар', 'батахтарыта',\n",
        " 'ыһыннарыһыннарыахпын', 'ыспатаҕын', 'батахпыта',\n",
        " 'ымаарыҥ', 'батахтаахтар', 'ыахтааххыт',\n",
        " 'ыһыахтааҕый', 'ымыахтарай', 'ыһыннарыахтааххын',\n",
        " 'ааччыбыт', 'таныллыбыт', 'ыһыннарыаҕыҥ',\n",
        " 'батахтааххын', 'ааччылар', 'батахпытыта',\n",
        " 'ыһыаххайыҥ', 'ымыахпытый', 'ыллыаҕа',\n",
        " 'ымаайаҕыт', 'ымаарыый', 'ыаҕаҥ',\n",
        " 'ыаҕам', 'ыахтарай', 'ыаххытый',\n",
        " 'лылар', 'ыспатаххына', 'ыһыннарыылара',\n",
        " 'ымыыһыгыт', 'ыспаттык', 'ыһыаҕыҥ', 'ыстахтара',\n",
        " 'батаҕыҥ', 'ыаҕа', 'батахпыт', 'батыбыт',\n",
        " 'баппыт', 'ыһыннардылар', 'быттааҕым',\n",
        " 'батылар', 'ыһыннарбат', 'ыахпытый',\n",
        " 'ааччыгыт', 'ыстахпытына', 'ыһарбар',\n",
        " 'ыһалларынан', 'ымаайабыт', 'быккын',\n",
        " 'ыыһылар', 'ыахтара', 'бытыҥ', 'лаллар',\n",
        " 'ымыаххытыный', 'ааччыҥ', 'ыстым', 'ыһалларый',\n",
        " 'лаҕыта', 'батахтара', 'ыстаҕына', 'батахтаах',\n",
        " 'батым', 'ымаҥ', 'быттаахпын', 'ыаххыт', 'лархыта',\n",
        " 'ыллыбыт', 'лаҕым', 'лаҕыҥ', 'бытым', 'быттааххыт',\n",
        " 'баттара', 'быппын', 'аарыҥытый', 'лыбыт',\n",
        " 'ыспатылар', 'ыһыахтарын', 'аарыҥытыый',\n",
        " 'аайаҕыт', 'ымаарый', 'ыахтаах', 'лархыт',\n",
        " 'ыһыахпын', 'ыһыннарбытын', 'аарый',\n",
        " 'ыһыах', 'ыһыннарыахтарын', 'аарыый',\n",
        " 'ыспатахтара', 'батаҕым', 'ыһыннаран',\n",
        " 'батахтааҕыҥ', 'ымаарай', 'аайаллар',\n",
        " 'ыһыннарбытыгар', 'ыһыннарыыттан',\n",
        " 'ааччым', 'ыспат', 'ларпыта', 'баттар',\n",
        " 'ааччы', 'ыһыннарыы', 'ыстахтарына',\n",
        " 'ыахпыт', 'ыһыннараары', 'батыҥ',\n",
        " 'аарыҥ', 'ыстыгыт', 'лартарыта',\n",
        " 'ыспаккын', 'ыһыннарыа', 'ыһаргытыгар',\n",
        " 'ыһыннарбыта', 'ыспаппыт', 'ыстыннар',\n",
        " 'батахтааҕым', 'ыһыннар', 'ымыыһыбыт',\n",
        " 'ларпытыта', 'быттаах', 'ыстабы',\n",
        " 'лыгыт', 'ымыым', 'быттааҕыҥ',\n",
        " 'ыһарбытыгар', 'ыспыппытын',\n",
        " 'ыспыппыттан', 'ымаар', 'батах', 'ыыһыгыт',\n",
        " 'быттааҕа', 'лартара', 'батаргыт',\n",
        " 'баккыт', 'ыстаххына', 'ыспытай',\n",
        " 'ыспыттыы', 'батаҕыта', 'аайабыт',\n",
        " 'ыһыай', 'ыстала', 'ыстахпыт',\n",
        " 'ыһынным', 'ыахайыҥ', 'ларпыт',\n",
        " 'ыспыккыный', 'ыстахтарын', 'ымыаҕыҥ',\n",
        " 'батар', 'батаҕа', 'батыгыт', 'ыахтар',\n",
        " 'ыыһыбыт', 'ыаххыный']\n",
        "# В правиле 1 возможны только короткие окончания\n",
        "affixes = [item for item in affixes if len(item)>3]\n",
        "\n",
        "# Правила замены гласных 2\n",
        "dvowels = {'у':'ы','е':'е','и':'ы','ү':'ы','о':'а','э':'а',\n",
        "              'я':'я','ю':'ю','ө':'а','ё':'е','а':'а'}\n",
        "\n",
        "# Исключения 1 -- фонетические на заимствованных словах\n",
        "exceptions_loaned = {'ио':'юю', 'иа':'юю', 'иу':'юю'}\n",
        "\n",
        "# Исключения 2 -- редкие \n",
        "exceptions = [  # -батах \n",
        "'аббат','набат','рабат','шабат',\n",
        "'вомбат','изобат','комбат','ниобат','санбат','сан',\n",
        "'акробат','акрбо','целибат','адсорбат','стилобат','стройбат','строй',\n",
        "'штрафбат','медсанбат','медсан','стереобат','гидроизобат',\n",
        "'изотермобат','теледебат','теледе',\n",
        "                # -ыстым\n",
        "'недопустимо', 'недоп', 'допустимо', 'доп',\n",
        "                # -ыспат\n",
        "'сулууспа','сулу','ветсулууспа','ветсулу', 'ветсулууспа', 'спецсулууспа', \n",
        "'метеосулууспа', 'радиосулууспа', 'разведсулууспа', 'авиаметеосулууспа', \n",
        "'гидрометеосулууспа', 'гидрометеосулу', \n",
        "                # -ааччы\n",
        "'бэдэрээччит','бэдэр',\n",
        "        # -ардаахпыт быраҕылынна фитобаардаахпыт эбэтэр фитобардаахпыт   \n",
        "]\n",
        "\n",
        "\n",
        "\n",
        "import pandas as pd\n",
        "import numpy as np\n",
        "from collections import Counter\n",
        "\n",
        "# Функция. Правила 1: выявление окончаний \n",
        "def isitaverb(x):\n",
        "    global affixes\n",
        "    for item in affixes:\n",
        "       if item in x and x.index(item)>2:\n",
        "           return x.index(item)\n",
        "    return 0\n",
        "\n",
        "\n",
        "# Функция. Правила 2: замена гласных \n",
        "def change_to_a(x):\n",
        "    for loaned, ersatz in exceptions_loaned.items():\n",
        "        x = x.replace(loaned, ersatz)   \n",
        "    return ''.join([dvowels[char] if char in dvowels.keys() else char for char in x])\n",
        "\n",
        "# Функция. Упорядочивание окончаний для Правила 1.\n",
        "# Пример: окончание 'ыныах' ищем до поиска 'ыах' \n",
        "def sort_inclusion_one_round(x):\n",
        "    new = []\n",
        "    for item in x:\n",
        "       memorize = new\n",
        "       must_be_inserted_to_head = False\n",
        "       for item2 in memorize: \n",
        "          if item2 in item: # True = добавляем подстроку, которая встречалась\n",
        "              must_be_inserted_to_head = True\n",
        "       if must_be_inserted_to_head:       \n",
        "              new.insert(0,item) \n",
        "       else:\n",
        "              new.append(item) \n",
        "    return new\n",
        "\n",
        "# Функция. Упорядочивание окончаний для Правила 1.\n",
        "# Недостаточно одного подхода\n",
        "def sort_inclusion(x):\n",
        "    x = list(set(x))\n",
        "    for i in range(100):\n",
        "        if sort_inclusion_one_round(x)==x:\n",
        "            return sort_inclusion_one_round(x)\n",
        "        x = sort_inclusion_one_round(x)    \n",
        "    return ['Cannot sort affixes. Some affix can be repeated.']\n",
        "\n",
        "affixes = sort_inclusion(affixes)"
      ],
      "execution_count": 63,
      "outputs": []
    },
    {
      "cell_type": "markdown",
      "metadata": {
        "id": "0zOIanYQFN79"
      },
      "source": [
        "## Загрузка корпуса \n",
        "\n",
        "Корпус словоформ  wordforms.csv опубликован https://github.com/Sakha-Language-Processing/wordforms\n",
        "и\n",
        "https://www.kaggle.com/c/sakha-lemmatizer"
      ]
    },
    {
      "cell_type": "code",
      "metadata": {
        "colab": {
          "base_uri": "https://localhost:8080/"
        },
        "id": "uxRHIapiFDwS",
        "outputId": "aa0c1551-e55c-422e-ca97-798609f3cd54"
      },
      "source": [
        "# !wget https://github.com/Sakha-Language-Processing/wordforms/blob/main/wordforms202104.zip\n",
        "# !unzip wordforms202104.zip\n",
        "# !unzip /content/wordforms.csv.zip"
      ],
      "execution_count": 69,
      "outputs": [
        {
          "output_type": "stream",
          "text": [
            "--2021-04-18 03:48:13--  https://github.com/Sakha-Language-Processing/wordforms/blob/main/wordforms202104.zip\n",
            "Resolving github.com (github.com)... 140.82.112.3\n",
            "Connecting to github.com (github.com)|140.82.112.3|:443... connected.\n",
            "HTTP request sent, awaiting response... 200 OK\n",
            "Length: unspecified [text/html]\n",
            "Saving to: ‘wordforms202104.zip’\n",
            "\n",
            "\rwordforms202104.zip     [<=>                 ]       0  --.-KB/s               \rwordforms202104.zip     [ <=>                ] 106.73K  --.-KB/s    in 0.04s   \n",
            "\n",
            "2021-04-18 03:48:13 (2.81 MB/s) - ‘wordforms202104.zip’ saved [109296]\n",
            "\n",
            "Archive:  wordforms202104.zip\n",
            "  End-of-central-directory signature not found.  Either this file is not\n",
            "  a zipfile, or it constitutes one disk of a multi-part archive.  In the\n",
            "  latter case the central directory and zipfile comment will be found on\n",
            "  the last disk(s) of this archive.\n",
            "unzip:  cannot find zipfile directory in one of wordforms202104.zip or\n",
            "        wordforms202104.zip.zip, and cannot find wordforms202104.zip.ZIP, period.\n"
          ],
          "name": "stdout"
        }
      ]
    },
    {
      "cell_type": "markdown",
      "metadata": {
        "id": "klbkz5FKGFv4"
      },
      "source": [
        "## Выявление и стемминг"
      ]
    },
    {
      "cell_type": "code",
      "metadata": {
        "id": "Ye7GsETGpPX_",
        "colab": {
          "base_uri": "https://localhost:8080/"
        },
        "outputId": "ea051154-534f-4b9a-c4b0-0bafcdaa6e89"
      },
      "source": [
        "df = pd.read_csv('wordforms.csv')\n",
        "print('Загружено ',len(df), 'словоформ')\n",
        "print('Первоначальный текст состоял из ',df['occurence'].sum(), 'вхождений')\n",
        "\n",
        "# Применяем правило 2\n",
        "df['wordcanon'] = df['wordform'].apply(change_to_a)\n",
        "\n",
        "# Применяем правило 1\n",
        "df['verb'] = df['wordcanon'].apply(isitaverb)\n",
        "df = df[df['verb']>0]\n",
        "print('Выявлено ',len(df), 'словоформ глаголов')\n",
        "print('В первоначальном тексте было не менее ',df['occurence'].sum(), 'вхождений глаголов')\n",
        "\n",
        "# Стемминг\n",
        "df['stem']=''\n",
        "for i, row in df.iterrows():\n",
        "    if df.at[i,'verb']!=0:   \n",
        "         df.at[i,'stem'] = df.at[i,'wordform'][:df.at[i,'verb']] \n",
        "\n",
        "# Отбрасываем исключения\n",
        "for item in exceptions:\n",
        "    df = df[df['stem']!=item]\n",
        "\n",
        "# Сохранение результатов\n",
        "df = df.sort_values(by='stem')[['wordform','occurence','stem','wordcanon']]\n",
        "df[['wordform','stem']].to_csv('verbs.csv',index=False) \n",
        "\n",
        "stemming = pd.DataFrame(list(set(list(df['stem']))))\n",
        "stemming.columns = ['stem']\n",
        "stemming.to_csv('verb_stems.csv',index=False)"
      ],
      "execution_count": 66,
      "outputs": [
        {
          "output_type": "stream",
          "text": [
            "Загружено  98568 словоформ\n",
            "Первоначальный текст состоял из  1028838 вхождений\n",
            "Выявлено  4640 словоформ глаголов\n",
            "В первоначальном тексте было не менее  23294 вхождений глаголов\n"
          ],
          "name": "stdout"
        }
      ]
    },
    {
      "cell_type": "code",
      "metadata": {
        "id": "_rF-GdsL3kPY"
      },
      "source": [
        ""
      ],
      "execution_count": null,
      "outputs": []
    }
  ]
}