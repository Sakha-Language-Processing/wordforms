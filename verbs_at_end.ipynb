{
  "nbformat": 4,
  "nbformat_minor": 0,
  "metadata": {
    "colab": {
      "name": "verbs_at_end",
      "provenance": [],
      "collapsed_sections": [],
      "toc_visible": true,
      "authorship_tag": "ABX9TyPQqPCAMRSj72ia1jpWR4jx",
      "include_colab_link": true
    },
    "kernelspec": {
      "name": "python3",
      "display_name": "Python 3"
    },
    "language_info": {
      "name": "python"
    }
  },
  "cells": [
    {
      "cell_type": "markdown",
      "metadata": {
        "id": "view-in-github",
        "colab_type": "text"
      },
      "source": [
        "<a href=\"https://colab.research.google.com/github/Sakha-Language-Processing/wordforms/blob/main/verbs_at_end.ipynb\" target=\"_parent\"><img src=\"https://colab.research.google.com/assets/colab-badge.svg\" alt=\"Open In Colab\"/></a>"
      ]
    },
    {
      "cell_type": "markdown",
      "metadata": {
        "id": "gpPPmsov6nsv"
      },
      "source": [
        "#Автоматизированный поиск глаголов как последних слов в предложении\n",
        "\n"
      ]
    },
    {
      "cell_type": "markdown",
      "metadata": {
        "id": "1pIgGC7aZjAc"
      },
      "source": [
        "Из 541024 предложений выделены последние слова, которые с большой вероятностью являются глаголами. Получилось 20408 словоформ. Доля глаголов является высокой. "
      ]
    },
    {
      "cell_type": "markdown",
      "metadata": {
        "id": "CmDDBcvNYsIB"
      },
      "source": [
        "## Загрузка и очистка "
      ]
    },
    {
      "cell_type": "code",
      "metadata": {
        "colab": {
          "base_uri": "https://localhost:8080/"
        },
        "id": "_b1OQBzT_w4_",
        "outputId": "aa53cc4d-2b40-4475-eb0d-a0afff5c1d39"
      },
      "source": [
        "# !wget https://github.com/Sakha-Language-Processing/sakha-parser-keskil/blob/main/raw_data_keskil_fixed.zip\n",
        "# !unzip raw_data_keskil_fixed.zip\n",
        "# parlament\n",
        "!wget https://github.com/Sakha-Language-Processing/parser-palament/raw/main/raw_data_parlamentsakha.zip\n",
        "!unzip raw_data_parlamentsakha.zip\n",
        "!wget https://github.com/Sakha-Language-Processing/parser-nvkonline/raw/main/raw_data_nvkonline.zip\n",
        "!unzip raw_data_nvkonline.zip\n",
        "!wget https://github.com/Sakha-Language-Processing/sakha-parser-keskil/raw/main/raw_data_keskil_fixed.zip\n",
        "!unzip raw_data_keskil_fixed.zip\n",
        "!wget https://github.com/Sakha-Language-Processing/parser-kyym/raw/main/kyym-df.zip\n",
        "!unzip kyym-df.zip\n",
        "!wget https://github.com/Sakha-Language-Processing/parser-ysia/raw/main/sakha_ysia_df.zip\n",
        "!unzip sakha_ysia_df.zip"
      ],
      "execution_count": 1,
      "outputs": [
        {
          "output_type": "stream",
          "text": [
            "--2021-04-18 08:22:01--  https://github.com/Sakha-Language-Processing/parser-palament/raw/main/raw_data_parlamentsakha.zip\n",
            "Resolving github.com (github.com)... 140.82.113.4\n",
            "Connecting to github.com (github.com)|140.82.113.4|:443... connected.\n",
            "HTTP request sent, awaiting response... 301 Moved Permanently\n",
            "Location: https://github.com/Sakha-Language-Processing/parser-parlament/raw/main/raw_data_parlamentsakha.zip [following]\n",
            "--2021-04-18 08:22:01--  https://github.com/Sakha-Language-Processing/parser-parlament/raw/main/raw_data_parlamentsakha.zip\n",
            "Reusing existing connection to github.com:443.\n",
            "HTTP request sent, awaiting response... 302 Found\n",
            "Location: https://raw.githubusercontent.com/Sakha-Language-Processing/parser-parlament/main/raw_data_parlamentsakha.zip [following]\n",
            "--2021-04-18 08:22:01--  https://raw.githubusercontent.com/Sakha-Language-Processing/parser-parlament/main/raw_data_parlamentsakha.zip\n",
            "Resolving raw.githubusercontent.com (raw.githubusercontent.com)... 185.199.108.133, 185.199.109.133, 185.199.110.133, ...\n",
            "Connecting to raw.githubusercontent.com (raw.githubusercontent.com)|185.199.108.133|:443... connected.\n",
            "HTTP request sent, awaiting response... 200 OK\n",
            "Length: 3857643 (3.7M) [application/zip]\n",
            "Saving to: ‘raw_data_parlamentsakha.zip’\n",
            "\n",
            "raw_data_parlaments 100%[===================>]   3.68M  --.-KB/s    in 0.1s    \n",
            "\n",
            "2021-04-18 08:22:02 (26.1 MB/s) - ‘raw_data_parlamentsakha.zip’ saved [3857643/3857643]\n",
            "\n",
            "Archive:  raw_data_parlamentsakha.zip\n",
            "  inflating: raw_data_parlamentsakha.json  \n",
            "--2021-04-18 08:22:02--  https://github.com/Sakha-Language-Processing/parser-nvkonline/raw/main/raw_data_nvkonline.zip\n",
            "Resolving github.com (github.com)... 140.82.112.4\n",
            "Connecting to github.com (github.com)|140.82.112.4|:443... connected.\n",
            "HTTP request sent, awaiting response... 302 Found\n",
            "Location: https://raw.githubusercontent.com/Sakha-Language-Processing/parser-nvkonline/main/raw_data_nvkonline.zip [following]\n",
            "--2021-04-18 08:22:03--  https://raw.githubusercontent.com/Sakha-Language-Processing/parser-nvkonline/main/raw_data_nvkonline.zip\n",
            "Resolving raw.githubusercontent.com (raw.githubusercontent.com)... 185.199.111.133, 185.199.109.133, 185.199.110.133, ...\n",
            "Connecting to raw.githubusercontent.com (raw.githubusercontent.com)|185.199.111.133|:443... connected.\n",
            "HTTP request sent, awaiting response... 200 OK\n",
            "Length: 1965991 (1.9M) [application/zip]\n",
            "Saving to: ‘raw_data_nvkonline.zip’\n",
            "\n",
            "raw_data_nvkonline. 100%[===================>]   1.87M  --.-KB/s    in 0.09s   \n",
            "\n",
            "2021-04-18 08:22:03 (20.6 MB/s) - ‘raw_data_nvkonline.zip’ saved [1965991/1965991]\n",
            "\n",
            "Archive:  raw_data_nvkonline.zip\n",
            "  inflating: raw_data_nvkonline.json  \n",
            "--2021-04-18 08:22:03--  https://github.com/Sakha-Language-Processing/sakha-parser-keskil/raw/main/raw_data_keskil_fixed.zip\n",
            "Resolving github.com (github.com)... 140.82.114.3\n",
            "Connecting to github.com (github.com)|140.82.114.3|:443... connected.\n",
            "HTTP request sent, awaiting response... 302 Found\n",
            "Location: https://raw.githubusercontent.com/Sakha-Language-Processing/sakha-parser-keskil/main/raw_data_keskil_fixed.zip [following]\n",
            "--2021-04-18 08:22:03--  https://raw.githubusercontent.com/Sakha-Language-Processing/sakha-parser-keskil/main/raw_data_keskil_fixed.zip\n",
            "Resolving raw.githubusercontent.com (raw.githubusercontent.com)... 185.199.111.133, 185.199.108.133, 185.199.110.133, ...\n",
            "Connecting to raw.githubusercontent.com (raw.githubusercontent.com)|185.199.111.133|:443... connected.\n",
            "HTTP request sent, awaiting response... 200 OK\n",
            "Length: 430880 (421K) [application/zip]\n",
            "Saving to: ‘raw_data_keskil_fixed.zip’\n",
            "\n",
            "raw_data_keskil_fix 100%[===================>] 420.78K  --.-KB/s    in 0.03s   \n",
            "\n",
            "2021-04-18 08:22:04 (12.2 MB/s) - ‘raw_data_keskil_fixed.zip’ saved [430880/430880]\n",
            "\n",
            "Archive:  raw_data_keskil_fixed.zip\n",
            "  inflating: raw_data_keskil.json    \n",
            "--2021-04-18 08:22:04--  https://github.com/Sakha-Language-Processing/parser-kyym/raw/main/kyym-df.zip\n",
            "Resolving github.com (github.com)... 140.82.114.3\n",
            "Connecting to github.com (github.com)|140.82.114.3|:443... connected.\n",
            "HTTP request sent, awaiting response... 302 Found\n",
            "Location: https://raw.githubusercontent.com/Sakha-Language-Processing/parser-kyym/main/kyym-df.zip [following]\n",
            "--2021-04-18 08:22:04--  https://raw.githubusercontent.com/Sakha-Language-Processing/parser-kyym/main/kyym-df.zip\n",
            "Resolving raw.githubusercontent.com (raw.githubusercontent.com)... 185.199.111.133, 185.199.109.133, 185.199.110.133, ...\n",
            "Connecting to raw.githubusercontent.com (raw.githubusercontent.com)|185.199.111.133|:443... connected.\n",
            "HTTP request sent, awaiting response... 200 OK\n",
            "Length: 8931048 (8.5M) [application/zip]\n",
            "Saving to: ‘kyym-df.zip’\n",
            "\n",
            "kyym-df.zip         100%[===================>]   8.52M  33.2MB/s    in 0.3s    \n",
            "\n",
            "2021-04-18 08:22:05 (33.2 MB/s) - ‘kyym-df.zip’ saved [8931048/8931048]\n",
            "\n",
            "Archive:  kyym-df.zip\n",
            "  inflating: kyym-novosti.csv        \n",
            "--2021-04-18 08:22:05--  https://github.com/Sakha-Language-Processing/parser-ysia/raw/main/sakha_ysia_df.zip\n",
            "Resolving github.com (github.com)... 140.82.113.4\n",
            "Connecting to github.com (github.com)|140.82.113.4|:443... connected.\n",
            "HTTP request sent, awaiting response... 302 Found\n",
            "Location: https://raw.githubusercontent.com/Sakha-Language-Processing/parser-ysia/main/sakha_ysia_df.zip [following]\n",
            "--2021-04-18 08:22:06--  https://raw.githubusercontent.com/Sakha-Language-Processing/parser-ysia/main/sakha_ysia_df.zip\n",
            "Resolving raw.githubusercontent.com (raw.githubusercontent.com)... 185.199.108.133, 185.199.109.133, 185.199.110.133, ...\n",
            "Connecting to raw.githubusercontent.com (raw.githubusercontent.com)|185.199.108.133|:443... connected.\n",
            "HTTP request sent, awaiting response... 200 OK\n",
            "Length: 8413663 (8.0M) [application/zip]\n",
            "Saving to: ‘sakha_ysia_df.zip’\n",
            "\n",
            "sakha_ysia_df.zip   100%[===================>]   8.02M  33.0MB/s    in 0.2s    \n",
            "\n",
            "2021-04-18 08:22:06 (33.0 MB/s) - ‘sakha_ysia_df.zip’ saved [8413663/8413663]\n",
            "\n",
            "Archive:  sakha_ysia_df.zip\n",
            "  inflating: sakha_ysia.csv          \n"
          ],
          "name": "stdout"
        }
      ]
    },
    {
      "cell_type": "code",
      "metadata": {
        "id": "I0UeV99aEmLI"
      },
      "source": [
        "# Чтение файлов\n",
        "# Можно добавить свои список файлов \n",
        "import json\n",
        "import pandas as pd\n",
        "\n",
        "articles = []\n",
        "for file in ['raw_data_nvkonline.json',\n",
        "             'raw_data_parlamentsakha.json',\n",
        "             'raw_data_keskil.json']:\n",
        "    file_ = open(file) \n",
        "    articles  += json.load(file_)\n",
        "    file_.close()\n",
        "\n",
        "all_files_text = []\n",
        "for article in articles:\n",
        "    all_files_text += article['raw_text'] \n",
        "    if 'title' in article:\n",
        "        all_files_text += [article['title']]\n",
        "\n",
        "aytal_text = ' '\n",
        "for file in ['kyym-novosti.csv',\n",
        "             'sakha_ysia.csv']:\n",
        "    file_ = pd.read_csv(file) \n",
        "    aytal_text  += ' '.join(list(file_['title'].fillna(' ')+file_['all_text'].fillna(' ')))\n",
        "\n",
        "all_files_text = ' '.join(all_files_text) + ' '.join(aytal_text)\n",
        "del aytal_text"
      ],
      "execution_count": 13,
      "outputs": []
    },
    {
      "cell_type": "code",
      "metadata": {
        "id": "3qYfkBHxKaX3"
      },
      "source": [
        "import re\n",
        "all_files_text = re.sub(re.compile(r'https?\\S+'), ' ', all_files_text)\n",
        "all_files_text = re.sub(re.compile(r'<.*?>'), ' ', all_files_text)\n",
        "all_files_text = re.sub(re.compile(r'@\\S+'), ' ', all_files_text)\n",
        "all_files_text = re.sub(re.compile(r'[\\//:@&\\-\\'\\`\\\"\\_\\n\\#]'), ' ', all_files_text)\n",
        "all_files_text = re.sub(re.compile(r'\\s*[A-Za-z\\d.]+\\b'), ' ' , all_files_text)\n",
        "all_files_text = all_files_text.lower()\n",
        "similar_characters = {'h':'һ','c':'с','x':'х','y':'у',\n",
        "                      'e':'е', 'T':'Т', 'o':'о', 'p':'р', \n",
        "                      'a':'а', 'k':'к', 'b':'в', 'm':'м', \n",
        "                      '5':'ҕ', '8':'ө'}\n",
        "for loaned, ersatz in similar_characters.items():\n",
        "    all_files_text = all_files_text.replace(loaned, ersatz)  \n",
        "\n"
      ],
      "execution_count": 131,
      "outputs": []
    },
    {
      "cell_type": "markdown",
      "metadata": {
        "id": "jVbFV59NYvl7"
      },
      "source": [
        "## Выделение последних слов предложений"
      ]
    },
    {
      "cell_type": "code",
      "metadata": {
        "id": "3K7cA_piXIAm"
      },
      "source": [
        "\n",
        "all_files_text = all_files_text.replace('?', '.')\n",
        "all_files_text = all_files_text.replace('!', '.')\n",
        "regex = re.compile('[^а-яА-ЯһөҕүҥҺӨҔҮҤ. ]')\n",
        "all_files_text = re.sub(regex, ' ', all_files_text)\n",
        "\n",
        "sentence_tails = [item[-min(len(item),30):] for item in all_files_text.split('.')]\n",
        "\n",
        "verbs = []\n",
        "for item in sentence_tails:\n",
        "    verb = item.split(' ')[-1]\n",
        "    if len(verb)<1:\n",
        "         for i in range(30):\n",
        "            item = item.replace(' .','.')\n",
        "            verb = item.split(' ')[-1]\n",
        "    verbs.append(verb) \n",
        "verbs = sorted(list(set(verbs)))\n",
        "df = pd.DataFrame(verbs)\n",
        "df.columns = ['verb']\n",
        "df.to_csv('verbs.csv',index=False)"
      ],
      "execution_count": 142,
      "outputs": []
    },
    {
      "cell_type": "code",
      "metadata": {
        "colab": {
          "base_uri": "https://localhost:8080/"
        },
        "id": "g9R-t8CuUBMZ",
        "outputId": "8c411515-295f-48ce-9f77-f471d0c638a4"
      },
      "source": [
        "len(sentence_tails)\n"
      ],
      "execution_count": 141,
      "outputs": [
        {
          "output_type": "execute_result",
          "data": {
            "text/plain": [
              "541024"
            ]
          },
          "metadata": {
            "tags": []
          },
          "execution_count": 141
        }
      ]
    },
    {
      "cell_type": "code",
      "metadata": {
        "id": "B1E37oqAYhdZ"
      },
      "source": [
        ""
      ],
      "execution_count": null,
      "outputs": []
    }
  ]
}