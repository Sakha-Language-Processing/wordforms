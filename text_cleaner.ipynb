{
  "nbformat": 4,
  "nbformat_minor": 0,
  "metadata": {
    "colab": {
      "name": "text_cleaner",
      "provenance": [],
      "collapsed_sections": [],
      "machine_shape": "hm",
      "include_colab_link": true
    },
    "kernelspec": {
      "name": "python3",
      "display_name": "Python 3"
    }
  },
  "cells": [
    {
      "cell_type": "markdown",
      "metadata": {
        "id": "view-in-github",
        "colab_type": "text"
      },
      "source": [
        "<a href=\"https://colab.research.google.com/github/Sakha-Language-Processing/wordforms/blob/main/text_cleaner.ipynb\" target=\"_parent\"><img src=\"https://colab.research.google.com/assets/colab-badge.svg\" alt=\"Open In Colab\"/></a>"
      ]
    },
    {
      "cell_type": "code",
      "metadata": {
        "id": "JuzMIkrLk2lN"
      },
      "source": [
        "import pandas as pd\n",
        "import re\n",
        "from collections import Counter"
      ],
      "execution_count": null,
      "outputs": []
    },
    {
      "cell_type": "code",
      "metadata": {
        "id": "vPXVxCVN4IWA"
      },
      "source": [
        "korpus_2 = []\n",
        "data = open('Alampa_isprav.txt', 'w')\n",
        "with open('/content/alampa_khohonnor.txt', encoding='utf-16') as f:\n",
        "    line = f.read()\n",
        "    line = re.sub(r\"[a-zA-Z]\", '', line)\n",
        "    line = line.replace('\\n\\n', '.')\n",
        "    line = line.replace('\\n', ' ')\n",
        "    line = line.replace('¤', 'һ')\n",
        "    line = line.replace('ї', 'һ')\n",
        "    line = line.replace('ћ', 'һ')\n",
        "    line = line.replace('ḥ', 'һ')\n",
        "    line = line.replace('Ї', 'һ')\n",
        "    line = line.replace('є', 'ө')\n",
        "    line = line.replace('Є', 'ө')\n",
        "    line = line.replace('Ѳ', 'ө')\n",
        "    line = line.replace('Ј', 'ө')\n",
        "    line = line.replace('ў', 'ү')\n",
        "    line = line.replace('і', 'ҥ')\n",
        "    line = line.replace('¡', 'ҕ')\n",
        "    line = line.replace('ӄ', 'ҕ')\n",
        "    line = line.replace('¢', 'ҥ')\n",
        "    line = line.replace('ѳ', 'ө')\n",
        "    line = line.replace('ɵ', 'ө')\n",
        "    line = line.replace('Ь', 'ь')\n",
        "    line = line.replace('Ъ', 'ъ')\n",
        "    line = line.replace('Ҥ', 'ҥ')\n",
        "    line = line.replace('ң', 'ҥ')\n",
        "    line = line.replace('І', 'ҥ')\n",
        "    line = line.replace('Ң', 'ҥ')\n",
        "    line = line.replace('ӈ', 'ҥ')\n",
        "    line = line.replace('Ў', 'ҕ')\n",
        "    line = line.replace('Ҕ', 'ҕ')\n",
        "    line = line.replace('ђ', 'ҕ')\n",
        "    line = line.replace('υ', 'ү')\n",
        "    line = line.replace('γ', 'ү')\n",
        "    line = line.replace('Υ', 'ү')\n",
        "    line = line.replace('ј', 'ө')\n",
        "    line = line.replace('ӊ', 'ҥ')\n",
        "    line = line.replace('њ', 'ҥ')\n",
        "    line = line.replace('ҋ', 'й')\n",
        "    line = line.replace('Ё', 'Ё')\n",
        "    line = line.replace('Ë', 'Ё')\n",
        "    line = line.replace('..', '.')\n",
        "    line = line.replace('...', '.')\n",
        "    line = line.replace('…', '.')\n",
        "\n",
        "    for cc in ['\\uf028', '\\uf0dd','\\uf02d','\\uf0e4','\\uf0fc','\\uf0e8','\\uf0fd',\n",
        "               '\\uf0e9','\\uf020','\\uf0ad','\\uf0cc','\\uf0e0','\\uf0f0','\\uf0fb',\n",
        "               '\\uf0ed','\\uf021','\\uf029','\\uf0c0','\\uf0f1','\\uf0d1','\\uf0f5',\n",
        "               '\\uf0e1','\\uf0d3','\\uf0db','\\uf0f2','\\uf0ef','\\uf0ec','\\uf0ce',\n",
        "               '\\uf0ea','\\uf0ee','\\uf0e5','\\uf0f8','\\uf0e2','\\uf0c2','\\uf0eb',\n",
        "               '\\uf0ca','\\uf0ff','\\uf096','\\uf0c8','\\uf0e3','\\uf0cb','\\uf0c1',\n",
        "               '\\uf0f3','\\uf0aa','\\uf0ba','\\uf0d2','\\uf0a2','\\uf0af','\\uf0b4',\n",
        "               '\\uf0c3','\\uf0d8','\\uf0c5','\\uf0d5','\\uf097','\\xa0','ñ','ý','ò','ì','è','Ì',\n",
        "               'í','ð','à','é','ï','î','á','ó','ë','û','ã','ä','÷','õ','º','ê', 'Ð', 'Ï',\n",
        "               'â','ç','å','ü','ô','æ','þ','’','ÿ','×','ö', '́','\\u200e','ν','ἔ',\n",
        "               'ρ','ο','\\ufeff','\\\\','µ','±','̎','£','¥','³','ґ','←','χ','ι','ҡ',\n",
        "               'ҙ','¼','²','¾','β','⠀','″', '̆','\\u200b','️','∼','・','‘','ҭ','½',\n",
        "               'ı','\\u202c','！','ә','′','پ','ن','ج','ر','ه','￼','‑','⁃','\\uf06c',\n",
        "               '₽','⇔','ă','қ','ø','ұ','⃣','Ѕ', 'Ê', 'È','Î','Á','À','Ñ','Ò','Ó','Û','Í','Õ','Â','Ä','Ý','Å','Ô',\n",
        "               '𝐀','𝐈','𝐒','𝐄','𝐍','𝐋','𝐃','𝐑','𝐊','𝐇',\n",
        "               'Ґ','☎','Ɵ','ß','ʻ','ɕ','ː','ł','š','ą','ś','ć','ż','ź','ń','ĕ','ҫ','ӗ','ӳ','ӑ','ŋ','世','界',\n",
        "               '卫','生','日','ā','ά','κ','α','ğ','ş','ε','ὐ','λ','ί','δ','η','ς','ē',\n",
        "               '中','國','国','ō','華','人','民','共','和','华','天','下','夏','神','州','汉','族','少',\n",
        "               '数','普','通','话','ἰ','μ','ἶ','ό','本','語','ě','र','त','ग','ण','ṇ','ӱ','ú','東','京',\n",
        "               '都', 'ق', 'ى', 'ع', 'ز', 'چ', 'ا',\n",
        "               'ت', 'ل', 'ғ', 'ǵ', 'ب', 'د', 'م', 'ۋ', 'س', 'ە', 'ي', 'ۇ', 'ڭ', 'و', 'گ', 'ك', 'ء', 'ة', 'φ', 'θ', 'ω', 'τ', '한',\n",
        "               '국', '조', '선', 'ǒ', 'ū', 'ǐ', 'ἀ', 'έ', 'π', 'ʿ', 'ī', '理', 'ῶ', 'ṣ', '北', '大', 'ɑ', 'ˈ', 'ψ', 'ῡ', 'ή', 'ȳ','ə',\n",
        "               'ύ', 'إ', 'č', 'ح', 'آ', 'י', 'ש', 'ו', 'ע', 'ה', 'מ', 'ח', 'א', 'נ', 'ئ', '台', '湾', '省', '故', '宮', '博','物',\n",
        "               '館', '龍', '山', '寺', '正', '紀', '念', '堂', '士', '林', '夜', '市', '臺', '立', '動', '園', 'ປ', 'ະ', 'ເ', 'ທ',\n",
        "               'ດ', 'ລ', 'າ', 'ວ', 'ສ', 'ນ', 'ຊ', 'ໄ', 'ຕ', 'ビ', 'ジ', 'ネ', 'ス', 'パ', 'ー', 'ト', 'ナ', 'ร',\n",
        "               'า', 'ช', 'อ', 'ณ', 'จ', 'ก', 'ไ', 'ท', 'ย', 'द', 'ह', 'ल', 'ہ', 'ی', 'ब', 'ई', '香', '港',\n",
        "               'đ', 'ồ', '名', '古', '屋', 'ص', 'غ', 'ġ', '漢', '侨', '海', '外', 'ǎ', '你', '好','系', '道', '仏',\n",
        "               '教', '维', '吾', '尔', 'ソ', 'ニ', '株', '式', '会', '社', '삼', '성', '그', '룹', '이', '병', '철', '건', '희',\n",
        "               '為', '技', '術', '有', '限', '公', '司', '为', '术', 'ù', 'ش', 'ۈ', '乌', '鲁', '木', '齐', '区','沙',\n",
        "               '依', '巴', '克', '头', '屯', '河', '水', '磨', '沟', '新', '东', '达', '坂', '城', '烏', '魯', '齊', \n",
        "               '县', 'ǔ', '路', '疆', '际', '扎', 'خ', '解', '放', '南', '红', '一', '号', '冰',\n",
        "               '川', '广', '场', '湖', '自', '治', '馆', '温', '泉', '丝','绸','之','二','桥','学','医','科','师',\n",
        "               '范','农','业','艺','院','财','经','电','视','ᾰ','ζ','哈','爾','濱','滨','黑','江','龙','连',\n",
        "               '溪','હ','ન','દ','ક','ર','મ','ચ','म','耳','猴','的','歌','松','尾','芭','蕉','ὅ','ف','ظ',\n",
        "               'ث','أ','ط','ذ','ض','말','어','우','리','안','녕','하','세','요','아','니','실','례','합',\n",
        "               '다','지','내','셨','냈','히','계','가','환', '영', '오', '랜', '만', '감', '사',\n",
        "               '에','름', '떻', '게', '되', '은', '입', '나', '서', '반', '갑', '습', '여', '보', '얼', '마','예', 'র', 'ব', 'ন', '杜', '甫',\n",
        "               'ת', 'ק', 'ד', 'ם', 'ɪ', 'ʃ', 'ĝ', 'ĉ', 'स', 'न', 'ध', '家', '德', '經', '莊', '子', '敎', '清', '西', '苍', '茫', '校', '庄',\n",
        "               '严', '巍', '然', '央', '文', '化', '荟', '萃', '同', '爰', '跻', '祖', '以', '光', '莘', '来', '远', '方','春', '风','雨', '乐',\n",
        "               '未', '行', '健', '不', '息', '须', '强', '左', '图', '右', '史', '邺', '架', '致', '知', '穷', '探', '微', '旧', '合', '冶',\n",
        "               '殊', '途', '归', '肴', '核', '仁', '义', '闻', '肥', '服', '膺', '守', '善', '心', '无', '违', '能', '卑','众', '问', '笃',\n",
        "               '实', '辉', '器', '识', '其', '先', '从', '言', '孰', '介', '绍','是', '功', '泱', '秀', '钟', '万', '悃', '如', '矢', '忠', \n",
        "               '赫', '學', 'հ', 'ր', 'ա', 'ն', 'տ', 'գ', 'ի', 'ո', 'յ', 'ס', 'פ', 'ר', '儿', '音', '吴', '语', '吳', '廣',\n",
        "               '話', '粤', '粵', '闽', '閩', '湘', '客', '赣', '贛', '们', '久', '见', '了' '叫', '什', '么', '字', '我','艾', '森', '很',\n",
        "               '高', '兴', '认', '吗', '谢', '说', '哪', '里', '俄', '罗', '斯', '住', '在', '雅', '库', '茨', '英', '早', '上', '午', '晚',\n",
        "               '安', '做', '个', '梦', '这', '多', '钱', '太', '贵', '可', '点', '便', '宜', '再', '意', '思', '对', '起', '气', '欢',\n",
        "               '迎', '想','明', '白', '听','懂', '要', '试', '身', '别', '出', '口', '厕', '所', '迷', '事', '打',\n",
        "               '扰', '救', '命', '现', '几', '快', '年', '恭', '喜', '祝', '运', '爱', '拼', 'ŭ', '长', '朋', '友', '徽', '回', '부',\n",
        "               '산', '광', '역', '시', '釜', '域', '김', '강', '식', '대', '행','정', '과', '방', '의', '중', '심', '동', '래',\n",
        "               '와', '문', '화', '재', '교', '생', '기', '찬', '珍', '珠','ל', 'ב', 'ט','צ', 'フ', 'シ','ギ', 'ダ', 'ウ', 'バ', \n",
        "               'ヒ','カ', 'ゲ', 'リ', 'ザ', 'ド', 'ン', 'ゼ', 'ガ', 'メ', 'ル', 'ッ', 'ク', 'キ', 'ャ', 'タ', 'ピ', 'ラ', 'セ', 'コ',\n",
        "               'ア', 'ポ', 'ョ', 'オ', 'ズ', 'ボ', 'チ', 'ュ', 'イ', 'サ', 'ノ', 'グ', 'ロ', 'プ', 'ゴ', 'ゾ', 'ハ', 'レ',\n",
        "               'モ', 'ォ', 'デ', 'ィ', 'ペ', 'マ', 'ケ', 'ユ', 'ワ', 'ツ', 'ミ','ブ', 'テ', 'ヤ','ベ', 'ェ', 'ム', 'エ',\n",
        "               'ホ', 'ァ', '千', '島', '列', '占', '阿', '頼', '度', '幌', '筵', '志', '規', '勘', '留', '帆', '掛', '岩',\n",
        "               '禰', '丹', '牟', '越', '渇', '捨', '雷', '計', '輪', '羅', '処', '摺', '手', '宇', '吐', '夷', '武', '頓',\n",
        "               '保', '諸', '得', '撫', '択', '捉', '後', '色', '歯', '舞', '楽', '発', '晶', '勇', '苅', '秋', '貝',\n",
        "               '殻', 'ი', 'ო', 'ს', 'ე', 'ბ', 'ჯ', 'უ', 'ღ', 'ა', 'შ', 'ვ', 'ლ', '绥', '芬', '炫', '彩', '津', '门',\n",
        "               '景', '园', '官', '银', '空', '流', '加', '工', '滴', '丽', '五', '情', '显', '示', '双', '向', '车', 'ċ', '無',\n",
        "               '錫', '浙', '杭', '宁', '波', '嘉', '金', '衢', '舟','伝', '兵', '衛', 'か', 'ん','む', 'り', '埃', '利', '佐', '沃', '石',\n",
        "               '坡', 'ச', 'ி', 'ங', '்', 'க', 'ப', 'ூ', 'ர', 'ҷ', 'Ҷ', 'ҳ', 'ั', 'ि', 'ी', 'ਨ', 'ਵ', 'ੀ',\n",
        "               'ਂ', 'ਦ', 'ਿ', 'ੱ', 'ਲ', 'ु', 'ं', 'İ', '⁄', 'ক', 'ল', 'া', 'ত', '€', '↑', '민', '족', '韓', 'ک', '広',\n",
        "               'ヨ', '車', '\\u200c', 'Ü', 'བ', 'ོ', 'ད', '་', '藏', '四', '成', 'ė', 'ኢ', 'ት', 'ዮ', 'ጵ', 'ያ', 'ʾ',\n",
        "               'Ī', 'ṗ', '移', '动', '信', '辽', '沈', '阳', '吉', '長', '阪', 'Ō', '\\x98', 'ો', 'ા', 'સ', 'ં', 'ગ', 'ધ', 'ી',\n",
        "               'Ὅ', 'क', '李', 'ῆ', 'ী', '্', 'দ', 'থ', 'ঠ', 'ু', 'ĥ', 'ĵ', 'ŝ',\n",
        "               '儒', 'श', 'व', 'ै', 'ֲ','ּ','ो','禅','禪','Գ','段','永','平','妈','麻','马','骂','青',\n",
        "               '寧', 'अ', 'ः','उ','प', 'े','आ','冠','堪','察','彼','洛','█','♈','♉','♊','♋','♌',\n",
        "               '♍','♏','♐','♑','♒','♓','Ş','峡','橋','Γ','ξ','≈','Β','ώ','כ','军','进','曲','葛',\n",
        "               '飾','斎','富','嶽','三','十','六','ひ','ら','が','な','‰','瀬','戸','内','\\uf076','君','代',\n",
        "               '†','Қ', 'ɔ', 'ɲ', 'Σ', 'Ś', '，', 'भ', 'ा', 'ज', '्', 'य', 'ἐ', 'Ἀ', 'ἄ', '孔', '夫', 'Ḥ',\n",
        "               'Ö', 'Δ', 'É', 'Č', 'Հ', 'ս', 'պ', 'ե', 'ւ', 'թ', 'ّ', 'ְ', 'ִ', 'ַ', 'ָ', 'ֵ', 'َ', 'ْ', 'ِ', 'ṭ', 'ັ', 'ິ', 'ົ', 'ῖ','ệ']:\n",
        "      line = line.replace(cc, '')\n",
        "    for d in \"/@^$#&*~`\\r\\n\\t„><|´·•¹°¬►◄―ª∆׃σ¸¦'−­ΧΙ🔹🔸 ©📲🌀🎧📆🎄⭐🌷🌞🔥🇷🇺🌐🌿🌸▪ ✅🔵‼✊🏻📍🚗⚠🔺📞🌳😊😅😁🎉👰🤵☺🥳😘😍🌈🔰❗🤗🤪😂👍⚡🚫📌 🍃✂😉💙❓Ӊ⤵👌🌲📢📬☀💫🙌❤🤭🤷🏼‍♀👣🧐🔎🚐💁🍷🏔🎒🥪🤩😭💆🇫🔖🌍💴💶⏰🍽🥧🥖🥐🍥🦞🍡🧀🥩🍮⁉🧾☝🚇🚶👋✨🙏👐🇮🇸🚙⏯🌅💔🤫🤣😱🤔🤨😇😴🤤ℹ😎🌇🍂🌟👩🚀🏃👨👧👦🧝🕺🎤💃👮♂🎨🎓🏫👼🧙👱🧔🌾💐🕵💥🤹👸🧑🤘😆👏🥇🏆🇳🇴🌹😃👂🏾🧠🏽✌😏🎅🎊☃😜🤞❄😄🐷📸🎞🙋🌱🚌💪🤦📝🎵☑👬🎗🤝😀🤚✔💨⚖📈🙎🙍🎁🤙🙃💍🙆💇🙀🙄🌊🤧💕🧚🤟🙈😒👀🍇🍴🍎🍐🍊🍋🍌🍉🦆😝❣😩✍📃📜📄🎼🕐🕕🕔♥❌💠🌺🗺⚜😕🤓💡🎬👑👗🌄🔴\":\n",
        "        line = line.replace(d, '')\n",
        "    line = re.sub(\" +\", \" \", line)\n",
        "    korpus_2.extend(list(line))\n",
        "    data.write(line)\n",
        "data.close()"
      ],
      "execution_count": null,
      "outputs": []
    },
    {
      "cell_type": "code",
      "metadata": {
        "colab": {
          "base_uri": "https://localhost:8080/"
        },
        "id": "FrtA1x0ooCCI",
        "outputId": "ceaa5358-7417-4083-ad54-dd8c527cfe8d"
      },
      "source": [
        "korpus_2 = list(Counter(korpus_2).keys())\n",
        "len(korpus_2)"
      ],
      "execution_count": null,
      "outputs": [
        {
          "output_type": "execute_result",
          "data": {
            "text/plain": [
              "89"
            ]
          },
          "metadata": {
            "tags": []
          },
          "execution_count": 28
        }
      ]
    },
    {
      "cell_type": "markdown",
      "metadata": {
        "id": "Fp18Kt17QANO"
      },
      "source": [
        "Разбиение на предложения"
      ]
    },
    {
      "cell_type": "code",
      "metadata": {
        "id": "r8V59-w8kuD5"
      },
      "source": [
        "import re\n",
        "alphabets_1= '([ЙЦУКЕНГШЩЗХФЫВАПРОЛДЖЭЯЧСМИТБЮӨҮ])'\n",
        "diggi = '([1234567890])'"
      ],
      "execution_count": null,
      "outputs": []
    },
    {
      "cell_type": "code",
      "metadata": {
        "id": "6YldozxeP_ta"
      },
      "source": [
        "def split_into_sentences(text):\n",
        "    text = re.sub(\"уо[.]д[.]а[.] *\" + alphabets_1,\"<pip1>. \\\\1\",text)\n",
        "    text = re.sub(\"о[.]д[.]а[.] *\" + alphabets_1,\"<pip2>. \\\\1\",text)\n",
        "    text = re.sub(\" с[.] *\" + alphabets_1,\" с<pip3>. \\\\1\",text)\n",
        "    text = re.sub(\" м[.] *\" + alphabets_1,\" м<pip3>. \\\\1\",text)\n",
        "    text = re.sub(\"солк[.] *\" + alphabets_1,\"солк<pip3>. \\\\1\",text)\n",
        "    text = re.sub(\"тыһ[.] *\" + alphabets_1,\"тыһ<pip3>. \\\\1\",text)\n",
        "    text = re.sub(\" тыс[.] *\" + alphabets_1,\" тыc<pip3>. \\\\1\",text)\n",
        "    text = re.sub(\" мөл[.] *\" + alphabets_1,\" мөл<pip3>. \\\\1\",text)\n",
        "    text = re.sub(diggi + \"[.] *\" + alphabets_1,\"\\\\1<pip3>. \\\\2\",text)\n",
        "\n",
        "    text = re.sub(alphabets_1 + \"[.]\",\"\\\\1<pip3>\",text)\n",
        "    text = re.sub(diggi + \"[.]\",\"\\\\1<pip3>\",text)\n",
        "\n",
        "    text = re.sub(\"уо[.]д[.]а.\",\"<pip1>\",text)\n",
        "    text = re.sub(\"о[.]д[.]а.\",\"<pip2>\",text)\n",
        "    text = re.sub(\"О[.]э[.]\",\"<pip4>\",text)\n",
        "    text = re.sub(\"О[.]и[.]\",\"<pip7>\",text)\n",
        "    text = re.sub(\"о[.]э[.]\",\"<pip5>\",text)\n",
        "    text = re.sub(\"о[.]и[.]\",\"<pip6>\",text)\n",
        "\n",
        "    text = re.sub(\" гр[.]\",\" гр<pip3> \",text)\n",
        "    text = re.sub(\" кв[.]\",\" кв<pip3> \",text)\n",
        "    text = re.sub(\" г[.]\",\" г<pip3> \",text)\n",
        "    text = re.sub(\" т[.]\",\" г<pip3> \",text)\n",
        "    text = re.sub(\" c[.]\",\" c<pip3>\",text)\n",
        "    text = re.sub(\" м[.]\",\" м<pip3>\",text)\n",
        "    text = re.sub(\"тыһ[.]\",\"тыһ<pip3>\",text)\n",
        "    text = re.sub(\" тыс[.]\",\" тыс<pip3>\",text)\n",
        "    text = re.sub(\" стр[.]\",\" стр<pip3>\",text)\n",
        "    text = re.sub(\" ыст[.]\",\" ыст<pip3>\",text)\n",
        "    text = re.sub(\"солк[.]\",\"солк<pip3>\",text)\n",
        "    text = re.sub(\" уул[.]\",\" уул<pip3>\",text)\n",
        "    text = re.sub(\" мөл[.]\",\" мөл<pip3>\",text)\n",
        "    text = re.sub(\" ыст[.]\",\" ыст<pip3>\",text)\n",
        "\n",
        "    text = re.sub(\"--\",\" \",text)\n",
        "    text = re.sub('[.] *[.]', '.',text)\n",
        "    text = re.sub('[!] *[.]', '!',text)\n",
        "    text = re.sub('[?] *[.]', '?',text)\n",
        "    text = re.sub('[:] *[.]', ':',text)\n",
        "    text = re.sub('[?] *[!]', '?',text)\n",
        "    text = re.sub('[?] *[»]', \"<pip8>»\",text)\n",
        "    text = re.sub('[?] *[”]', \"<pip8>”\",text)\n",
        "    text = re.sub('[?] *[)]', \"<pip8>)\",text)\n",
        "    text = re.sub('[!] *[»]', \"<pip9>»\",text)\n",
        "    text = re.sub('[!] *[”]', \"<pip9>”\",text)\n",
        "    text = re.sub('[!] *[)]', \"<pip9>)\",text)\n",
        "    \n",
        "\n",
        "    text = text.replace(\".\",\".<stop>\")\n",
        "    text = text.replace(\"?\",\"?<stop>\")\n",
        "    text = text.replace(\"!\",\"!<stop>\")\n",
        "\n",
        "    text = text.replace(\"<pip1>\",\"уо.д.а.\")\n",
        "    text = text.replace(\"<pip2>\",\"о.д.а.\")\n",
        "    text = text.replace(\"<pip3>\",\".\")\n",
        "    text = text.replace(\"<pip4>\",\"О.э.\")\n",
        "    text = text.replace(\"<pip5>\",\"о.э.\")\n",
        "    text = text.replace(\"<pip6>\",\"о.и.\")\n",
        "    text = text.replace(\"<pip7>\",\"О.и.\")\n",
        "    text = text.replace(\"<pip8>\",\"?\")\n",
        "    text = text.replace(\"<pip9>\",\"!\")\n",
        "\n",
        "    text = re.sub(r' +', ' ',text)\n",
        "    text = re.sub(r'<stop> +', '<stop>',text)\n",
        "    text = re.sub(r'[.] +[.]', '.',text)\n",
        "\n",
        "    sentences = text.split(\"<stop>\")\n",
        "    return sentences"
      ],
      "execution_count": null,
      "outputs": []
    },
    {
      "cell_type": "code",
      "metadata": {
        "colab": {
          "base_uri": "https://localhost:8080/"
        },
        "id": "u_YyrIlhLvpU",
        "outputId": "828d7980-a5e3-473f-b1cd-3d5093450dfa"
      },
      "source": [
        "data = open('Alampa_sent.txt', 'w')\n",
        "with open('/content/Alampa_isprav.txt') as f:\n",
        "    line = f.read()\n",
        "    sentences = split_into_sentences(line)\n",
        "    for s in sentences:\n",
        "        data.write(s+'\\n')\n",
        "    print(len(sentences))\n",
        "data.close()"
      ],
      "execution_count": null,
      "outputs": [
        {
          "output_type": "stream",
          "text": [
            "2261\n"
          ],
          "name": "stdout"
        }
      ]
    },
    {
      "cell_type": "code",
      "metadata": {
        "colab": {
          "base_uri": "https://localhost:8080/"
        },
        "id": "HuptduK3ps9i",
        "outputId": "f366a685-e82b-4188-b9ed-7addeb11c8e1"
      },
      "source": [
        "data = open('collector_sent.txt', 'w')\n",
        "with open('/content/Collector_isprav.txt') as f:\n",
        "    line = f.read()\n",
        "    sentences = split_into_sentences(line)\n",
        "    for s in sentences:\n",
        "        data.write(s+'\\n')\n",
        "    print(len(sentences))\n",
        "data.close()"
      ],
      "execution_count": null,
      "outputs": [
        {
          "output_type": "stream",
          "text": [
            "1\n"
          ],
          "name": "stdout"
        }
      ]
    },
    {
      "cell_type": "code",
      "metadata": {
        "id": "c8mFrybVwgPW"
      },
      "source": [
        "korpus_1 = list(Counter(korpus_1).keys())"
      ],
      "execution_count": null,
      "outputs": []
    }
  ]
}